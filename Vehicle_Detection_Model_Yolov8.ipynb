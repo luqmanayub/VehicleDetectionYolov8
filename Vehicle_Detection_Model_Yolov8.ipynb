{
  "cells": [
    {
      "cell_type": "markdown",
      "metadata": {
        "id": "2Lbio_3eBFNA"
      },
      "source": [
        "Mounting Google Drive\n",
        "\n"
      ]
    },
    {
      "cell_type": "code",
      "execution_count": null,
      "metadata": {
        "colab": {
          "base_uri": "https://localhost:8080/"
        },
        "id": "2U3VKCwMBDP1",
        "outputId": "f23e4f6f-fb60-404f-b929-23ffbae1a45e"
      },
      "outputs": [],
      "source": [
        "from google.colab import drive\n",
        "drive.mount('/content/drive')"
      ]
    },
    {
      "cell_type": "markdown",
      "metadata": {
        "id": "ZsDtl3U9BZ2c"
      },
      "source": [
        "Copying Dataset from Google Drive to Colab"
      ]
    },
    {
      "cell_type": "code",
      "execution_count": null,
      "metadata": {
        "colab": {
          "base_uri": "https://localhost:8080/"
        },
        "id": "15WVddX3BJfX",
        "outputId": "7d4b3d82-f46e-481a-c0e0-12b5458b625b"
      },
      "outputs": [],
      "source": [
        "!pwd"
      ]
    },
    {
      "cell_type": "code",
      "execution_count": null,
      "metadata": {
        "id": "EFLrD5HYBbsR"
      },
      "outputs": [],
      "source": [
        "!cp /content/drive/MyDrive/vehicle_detection_dataset.zip /content"
      ]
    },
    {
      "cell_type": "markdown",
      "metadata": {
        "id": "sFKeFhKnCFmk"
      },
      "source": [
        "Unzipping the Dataset"
      ]
    },
    {
      "cell_type": "code",
      "execution_count": null,
      "metadata": {
        "colab": {
          "base_uri": "https://localhost:8080/"
        },
        "id": "Z5BDokA3B28k",
        "outputId": "86f68160-ecbe-4bbd-b374-e6f65bae507d"
      },
      "outputs": [],
      "source": [
        "!unzip /content/vehicle_detection_dataset.zip -d /content"
      ]
    },
    {
      "cell_type": "markdown",
      "metadata": {
        "id": "2n3MzUO7C1NY"
      },
      "source": [
        "#Exploring the Dataset"
      ]
    },
    {
      "cell_type": "code",
      "execution_count": null,
      "metadata": {
        "id": "CAc8J3u1CXz9"
      },
      "outputs": [],
      "source": [
        "import numpy as np\n",
        "import matplotlib.pyplot as plt\n",
        "import os\n",
        "import cv2"
      ]
    },
    {
      "cell_type": "code",
      "execution_count": null,
      "metadata": {
        "colab": {
          "base_uri": "https://localhost:8080/",
          "height": 1000
        },
        "id": "u1syAAdtC_gK",
        "outputId": "28dca5a5-ba92-42a6-c1d4-646ee7e9942c"
      },
      "outputs": [],
      "source": [
        "for img in os.listdir('/content/vehicle_detection_dataset/train/images')[:10]:\n",
        "  path = f'/content/vehicle_detection_dataset/train/images/{img}'\n",
        "  img_read = plt.imread(path)\n",
        "  plt.imshow(img_read)\n",
        "  plt.show()"
      ]
    },
    {
      "cell_type": "markdown",
      "metadata": {
        "id": "dPQWuJ-DExar"
      },
      "source": [
        "Drawing the Bounding Box"
      ]
    },
    {
      "cell_type": "code",
      "execution_count": null,
      "metadata": {
        "id": "5l8jyH2-DVOh"
      },
      "outputs": [],
      "source": [
        "#read the txt file(read single file only)\n",
        "def parse_yolo_annotation(annotation_path):\n",
        "  with open(annotation_path, 'r') as file:\n",
        "    lines = file.read().split('\\n')\n",
        "    annotations = []\n",
        "    for line in lines:\n",
        "      if line.strip() != \"\":\n",
        "        data = line.split()\n",
        "        class_id = int(data[0])\n",
        "        x,y,w,h = map(float, data[1:])\n",
        "        var_dict = {'class_id' : class_id, 'x' : x, 'y' : y, 'w' : w, 'h' : h}\n",
        "        annotations.append(var_dict)\n",
        "  return annotations\n"
      ]
    },
    {
      "cell_type": "code",
      "execution_count": null,
      "metadata": {
        "colab": {
          "base_uri": "https://localhost:8080/",
          "height": 1000
        },
        "id": "_X5eFKh6IEOs",
        "outputId": "109a9d02-868e-495d-85b2-0ebb1631ace8"
      },
      "outputs": [],
      "source": [
        "data_dir = '/content/vehicle_detection_dataset/valid'\n",
        "image_files = [f for f in os.listdir(f'{data_dir}/images')[:10] if f.endswith('.jpg')]\n",
        "for image_file in image_files:\n",
        "  img_path = f'/content/vehicle_detection_dataset/valid/images/{image_file}'\n",
        "  image = plt.imread(img_path)\n",
        "  #changing the path to txt\n",
        "  annotation_path = f'/content/vehicle_detection_dataset/valid/labels/{image_file[:-4]}.txt'\n",
        "  annotations = parse_yolo_annotation(annotation_path)\n",
        "\n",
        "  class_color_dict = {\n",
        "    0: (255, 0, 0),      # Ambulance - Red\n",
        "    1: (0, 255, 0),      # Auto - Green\n",
        "    2: (0, 0, 255),      # Bicycle - Blue\n",
        "    3: (255, 255, 0),    # Bike - Yellow\n",
        "    4: (255, 165, 0),    # Bus - Orange\n",
        "    5: (0, 255, 255),    # Car - Cyan\n",
        "    6: (128, 0, 128),    # Motorcycle - Purple\n",
        "    7: (128, 128, 128),  # Truck - Gray\n",
        "    8: (255, 255, 255),  # auto-rickshaw - White\n",
        "    9: (0, 128, 0),      # bus - Dark Green\n",
        "    10: (0, 0, 128),     # car - Dark Blue\n",
        "    11: (128, 0, 0),     # lorry - Dark Red\n",
        "    12: (128, 128, 0),   # mini truck - Olive\n",
        "    13: (255, 0, 255),   # small-motorcycle - Magenta\n",
        "    14: (128, 64, 0)     # smalltruck - Brown\n",
        "    }\n",
        "\n",
        "  for annotation in annotations:\n",
        "    print(annotation)\n",
        "    class_id = annotation['class_id']\n",
        "    x = annotation['x']\n",
        "    y = annotation['y']\n",
        "    w = annotation['w']\n",
        "    h = annotation['h']\n",
        "\n",
        "    color = class_color_dict.get(class_id, (0,0,0))\n",
        "    img_h,img_w,channel = image.shape\n",
        "    x1 = int((x - w/2) * img_w)\n",
        "    y1 = int((y - h/2) * img_h)\n",
        "\n",
        "    x2 = int((x + w/2) * img_w)\n",
        "    y2 = int((y + h/2) * img_h)\n",
        "\n",
        "    cv2.rectangle(image,(x1, y1),(x2, y2), color, 10)\n",
        "\n",
        "  plt.imshow(image)\n",
        "  plt.show()"
      ]
    },
    {
      "cell_type": "markdown",
      "metadata": {
        "id": "3vrDwL-qSRgE"
      },
      "source": [
        "#*Training the model(“vehicle_data.yaml” file can also be used by configuring the path)*"
      ]
    },
    {
      "cell_type": "code",
      "execution_count": null,
      "metadata": {
        "id": "EXo0zV69JEnc"
      },
      "outputs": [],
      "source": [
        "import yaml"
      ]
    },
    {
      "cell_type": "code",
      "execution_count": null,
      "metadata": {
        "id": "BUIriv5dS4BD"
      },
      "outputs": [],
      "source": [
        "data_yaml = dict(\n",
        "    train = '/content/vehicle_detection_dataset/train',\n",
        "    val = '/content/vehicle_detection_dataset/valid',\n",
        "    nc = 15,\n",
        "    names = ['Ambulance', 'Auto', 'Bicycle', 'Bike', 'Bus', 'Car', 'Motorcycle', 'Truck', 'auto-rickshaw', 'bus', 'car', 'lorry', 'mini truck', 'motorcycle', 'truck']\n",
        ")\n",
        "\n",
        "\n",
        "with open('vehicle_name.yaml','w') as file:\n",
        "  yaml.dump(data_yaml, file)"
      ]
    },
    {
      "cell_type": "markdown",
      "metadata": {
        "id": "CKVmzGHiVKNB"
      },
      "source": [
        "Installing Ultralytics"
      ]
    },
    {
      "cell_type": "code",
      "execution_count": null,
      "metadata": {
        "colab": {
          "base_uri": "https://localhost:8080/"
        },
        "id": "_E77lllNUrg5",
        "outputId": "748e137e-5422-4736-f4d7-af1b06665655"
      },
      "outputs": [],
      "source": [
        "!pip install ultralytics"
      ]
    },
    {
      "cell_type": "code",
      "execution_count": null,
      "metadata": {
        "colab": {
          "base_uri": "https://localhost:8080/"
        },
        "id": "SuC9NT_UVQf9",
        "outputId": "ca948fc2-a559-41e4-b898-b13e32a39eb3"
      },
      "outputs": [],
      "source": [
        "!yolo detect train data=/content/vehicle_name.yaml model=yolov8s.pt epochs=10 imgsz=640"
      ]
    },
    {
      "cell_type": "code",
      "execution_count": null,
      "metadata": {
        "id": "oLJ73VQuV03U"
      },
      "outputs": [],
      "source": []
    },
    {
      "cell_type": "markdown",
      "metadata": {
        "id": "r73RnHEQWcbx"
      },
      "source": [
        "#Inference the Yolov8"
      ]
    },
    {
      "cell_type": "code",
      "execution_count": null,
      "metadata": {
        "colab": {
          "base_uri": "https://localhost:8080/"
        },
        "id": "Z5lPM33SWaxo",
        "outputId": "7af24c30-ea58-4da8-b5a9-2b2e70985122"
      },
      "outputs": [],
      "source": [
        "!yolo predict model = /content/runs/detect/train/weights/best.pt imgsz=640 conf=0.25 source = /content/vehicle_detection_dataset/valid/images"
      ]
    },
    {
      "cell_type": "code",
      "execution_count": null,
      "metadata": {
        "id": "RCqqSpvZa9DD"
      },
      "outputs": [],
      "source": [
        "!cp -r runs /content/drive/MyDrive/Detect_Vehicle_Yolov8"
      ]
    },
    {
      "cell_type": "code",
      "execution_count": null,
      "metadata": {
        "id": "xT3pvxSWb4ni"
      },
      "outputs": [],
      "source": []
    }
  ],
  "metadata": {
    "accelerator": "GPU",
    "colab": {
      "gpuType": "T4",
      "provenance": []
    },
    "kernelspec": {
      "display_name": "Python 3",
      "name": "python3"
    },
    "language_info": {
      "name": "python"
    }
  },
  "nbformat": 4,
  "nbformat_minor": 0
}
